{
 "cells": [
  {
   "cell_type": "code",
   "execution_count": 70,
   "id": "bfee069d",
   "metadata": {},
   "outputs": [],
   "source": [
    "import pandas as pd\n",
    "import numpy as np"
   ]
  },
  {
   "cell_type": "code",
   "execution_count": 71,
   "id": "f6e280aa",
   "metadata": {},
   "outputs": [],
   "source": [
    "df1= pd.read_csv(r\"C:\\Users\\sathi\\Downloads\\deliveries.csv\")"
   ]
  },
  {
   "cell_type": "code",
   "execution_count": 72,
   "id": "376d66c5",
   "metadata": {},
   "outputs": [],
   "source": [
    "df2 = pd.read_csv(r\"C:\\Users\\sathi\\Downloads\\matches.csv\")"
   ]
  },
  {
   "cell_type": "code",
   "execution_count": 73,
   "id": "f17d3ece",
   "metadata": {},
   "outputs": [],
   "source": [
    "df2.rename(columns = {'id':'match_id'}, inplace = True)"
   ]
  },
  {
   "cell_type": "code",
   "execution_count": 76,
   "id": "43746da9",
   "metadata": {},
   "outputs": [],
   "source": [
    "df = pd.merge(df2,df1,on=\"match_id\",how = \"outer\")"
   ]
  },
  {
   "cell_type": "code",
   "execution_count": 83,
   "id": "31463679",
   "metadata": {},
   "outputs": [],
   "source": [
    "pd.set_option(\"display.max_columns\",50)\n",
    "pd.set_option(\"display.max_rows\",500)"
   ]
  },
  {
   "cell_type": "markdown",
   "id": "03becd75",
   "metadata": {},
   "source": [
    "### 2. The column which has the most missing values according to the data is:\n"
   ]
  },
  {
   "cell_type": "code",
   "execution_count": 82,
   "id": "3a8a45ca",
   "metadata": {},
   "outputs": [
    {
     "data": {
      "text/plain": [
       "match_id                 0\n",
       "season                   0\n",
       "city                  1700\n",
       "date                     0\n",
       "team1                    0\n",
       "team2                    0\n",
       "toss_winner              0\n",
       "toss_decision            0\n",
       "result                   0\n",
       "dl_applied               0\n",
       "winner                 372\n",
       "win_by_runs              0\n",
       "win_by_wickets           0\n",
       "player_of_match        372\n",
       "venue                    0\n",
       "umpire1                500\n",
       "umpire2                500\n",
       "umpire3             150712\n",
       "inning                   0\n",
       "batting_team             0\n",
       "bowling_team             0\n",
       "over                     0\n",
       "ball                     0\n",
       "batsman                  0\n",
       "non_striker              0\n",
       "bowler                   0\n",
       "is_super_over            0\n",
       "wide_runs                0\n",
       "bye_runs                 0\n",
       "legbye_runs              0\n",
       "noball_runs              0\n",
       "penalty_runs             0\n",
       "batsman_runs             0\n",
       "extra_runs               0\n",
       "total_runs               0\n",
       "player_dismissed    170244\n",
       "dismissal_kind      170244\n",
       "fielder             172630\n",
       "dtype: int64"
      ]
     },
     "execution_count": 82,
     "metadata": {},
     "output_type": "execute_result"
    }
   ],
   "source": [
    "df.isna().sum()"
   ]
  },
  {
   "cell_type": "code",
   "execution_count": 88,
   "id": "88d42c52",
   "metadata": {},
   "outputs": [],
   "source": [
    "df['city'].fillna(method=\"bfill\",inplace=True)"
   ]
  },
  {
   "cell_type": "code",
   "execution_count": 90,
   "id": "a97ca865",
   "metadata": {},
   "outputs": [],
   "source": [
    "df[\"winner\"].fillna(\"draw\",inplace=True)"
   ]
  },
  {
   "cell_type": "code",
   "execution_count": 91,
   "id": "5270e994",
   "metadata": {},
   "outputs": [],
   "source": [
    "df[\"player_of_match\"].fillna(\"no result\",inplace=True)"
   ]
  },
  {
   "cell_type": "code",
   "execution_count": 95,
   "id": "8309544b",
   "metadata": {},
   "outputs": [],
   "source": [
    "df[\"umpire1\"].fillna(df[\"umpire1\"].mode()[0],inplace=True)"
   ]
  },
  {
   "cell_type": "code",
   "execution_count": 96,
   "id": "c22407ed",
   "metadata": {},
   "outputs": [],
   "source": [
    "df[\"umpire2\"].fillna(df[\"umpire2\"].mode()[0],inplace=True)"
   ]
  },
  {
   "cell_type": "code",
   "execution_count": 97,
   "id": "15d62fc8",
   "metadata": {},
   "outputs": [
    {
     "data": {
      "text/plain": [
       "match_id                 0\n",
       "season                   0\n",
       "city                     0\n",
       "date                     0\n",
       "team1                    0\n",
       "team2                    0\n",
       "toss_winner              0\n",
       "toss_decision            0\n",
       "result                   0\n",
       "dl_applied               0\n",
       "winner                   0\n",
       "win_by_runs              0\n",
       "win_by_wickets           0\n",
       "player_of_match          0\n",
       "venue                    0\n",
       "umpire1                  0\n",
       "umpire2                  0\n",
       "umpire3             150712\n",
       "inning                   0\n",
       "batting_team             0\n",
       "bowling_team             0\n",
       "over                     0\n",
       "ball                     0\n",
       "batsman                  0\n",
       "non_striker              0\n",
       "bowler                   0\n",
       "is_super_over            0\n",
       "wide_runs                0\n",
       "bye_runs                 0\n",
       "legbye_runs              0\n",
       "noball_runs              0\n",
       "penalty_runs             0\n",
       "batsman_runs             0\n",
       "extra_runs               0\n",
       "total_runs               0\n",
       "player_dismissed    170244\n",
       "dismissal_kind      170244\n",
       "fielder             172630\n",
       "dtype: int64"
      ]
     },
     "execution_count": 97,
     "metadata": {},
     "output_type": "execute_result"
    }
   ],
   "source": [
    "df.isna().sum()"
   ]
  },
  {
   "cell_type": "code",
   "execution_count": 99,
   "id": "040c2289",
   "metadata": {},
   "outputs": [],
   "source": [
    "df.dropna(axis=1,inplace=True)"
   ]
  },
  {
   "cell_type": "markdown",
   "id": "220040cc",
   "metadata": {},
   "source": [
    "### 3.City which hosted most number of seasons according to the data is\n",
    "\n"
   ]
  },
  {
   "cell_type": "code",
   "execution_count": 104,
   "id": "f4afbbf4",
   "metadata": {},
   "outputs": [
    {
     "data": {
      "text/plain": [
       "city\n",
       "Mumbai       101\n",
       "Kolkata       77\n",
       "Delhi         74\n",
       "Bangalore     66\n",
       "Hyderabad     64\n",
       "Name: count, dtype: int64"
      ]
     },
     "execution_count": 104,
     "metadata": {},
     "output_type": "execute_result"
    }
   ],
   "source": [
    "df2[\"city\"].value_counts().nlargest()\n"
   ]
  },
  {
   "cell_type": "markdown",
   "id": "b0a4f909",
   "metadata": {},
   "source": [
    "### 4.Which year has the most number of matches played?\n",
    "\n"
   ]
  },
  {
   "cell_type": "code",
   "execution_count": 105,
   "id": "0e69cb91",
   "metadata": {},
   "outputs": [
    {
     "data": {
      "text/plain": [
       "season\n",
       "2013    76\n",
       "2012    74\n",
       "2011    73\n",
       "2010    60\n",
       "2014    60\n",
       "2016    60\n",
       "2018    60\n",
       "2019    60\n",
       "2017    59\n",
       "2015    59\n",
       "2008    58\n",
       "2009    57\n",
       "Name: count, dtype: int64"
      ]
     },
     "execution_count": 105,
     "metadata": {},
     "output_type": "execute_result"
    }
   ],
   "source": [
    "df2[\"season\"].value_counts()"
   ]
  },
  {
   "cell_type": "markdown",
   "id": "09048fdf",
   "metadata": {},
   "source": [
    "### 5.Maximum wins by Mumbai Indians in 2011 are\n",
    "\n"
   ]
  },
  {
   "cell_type": "code",
   "execution_count": 107,
   "id": "00746067",
   "metadata": {},
   "outputs": [
    {
     "data": {
      "text/plain": [
       "10"
      ]
     },
     "execution_count": 107,
     "metadata": {},
     "output_type": "execute_result"
    }
   ],
   "source": [
    "season_2011 = df2[df2[\"season\"]==2011]\n",
    "\n",
    "(season_2011[\"winner\"] == \"Mumbai Indians\").sum()"
   ]
  },
  {
   "cell_type": "markdown",
   "id": "e078c487",
   "metadata": {},
   "source": [
    "### 6.For 'toss_decision' feature what kind of plot is suitable?\n"
   ]
  },
  {
   "cell_type": "code",
   "execution_count": 108,
   "id": "2e5eaf44",
   "metadata": {},
   "outputs": [
    {
     "data": {
      "text/plain": [
       "<Axes: xlabel='toss_decision'>"
      ]
     },
     "execution_count": 108,
     "metadata": {},
     "output_type": "execute_result"
    },
    {
     "data": {
      "image/png": "[encoded data removed]",
      "text/plain": [
       "<Figure size 640x480 with 1 Axes>"
      ]
     },
     "metadata": {},
     "output_type": "display_data"
    }
   ],
   "source": [
    "\n",
    "df2[\"toss_decision\"].value_counts().plot.bar()"
   ]
  },
  {
   "cell_type": "code",
   "execution_count": 109,
   "id": "e478779a",
   "metadata": {},
   "outputs": [
    {
     "data": {
      "text/plain": [
       "<Axes: ylabel='count'>"
      ]
     },
     "execution_count": 109,
     "metadata": {},
     "output_type": "execute_result"
    },
    {
     "data": {
      "image/png": "[encoded data removed]",
      "text/plain": [
       "<Figure size 640x480 with 1 Axes>"
      ]
     },
     "metadata": {},
     "output_type": "display_data"
    }
   ],
   "source": [
    "df2[\"toss_decision\"].value_counts().plot.pie()"
   ]
  },
  {
   "cell_type": "markdown",
   "id": "0f0bb980",
   "metadata": {},
   "source": [
    "### 7.What is the percentage of getting bat and field in feature 'toss_descision'?\n",
    "\n"
   ]
  },
  {
   "cell_type": "code",
   "execution_count": 110,
   "id": "10356270",
   "metadata": {},
   "outputs": [
    {
     "data": {
      "text/plain": [
       "<Axes: ylabel='count'>"
      ]
     },
     "execution_count": 110,
     "metadata": {},
     "output_type": "execute_result"
    },
    {
     "data": {
      "image/png": "[encoded data removed]",
      "text/plain": [
       "<Figure size 640x480 with 1 Axes>"
      ]
     },
     "metadata": {},
     "output_type": "display_data"
    }
   ],
   "source": [
    "df2[\"toss_decision\"].value_counts().plot.pie(autopct=\"%1.1f\")"
   ]
  },
  {
   "cell_type": "markdown",
   "id": "ccddc643",
   "metadata": {},
   "source": [
    "### 8.Which statement holds true\n"
   ]
  },
  {
   "cell_type": "code",
   "execution_count": 112,
   "id": "dc908394",
   "metadata": {},
   "outputs": [
    {
     "data": {
      "text/plain": [
       "toss_decision\n",
       "field    463\n",
       "bat      293\n",
       "Name: count, dtype: int64"
      ]
     },
     "execution_count": 112,
     "metadata": {},
     "output_type": "execute_result"
    }
   ],
   "source": [
    "df2[\"toss_decision\"].value_counts()"
   ]
  },
  {
   "cell_type": "code",
   "execution_count": 115,
   "id": "45f90798",
   "metadata": {},
   "outputs": [
    {
     "data": {
      "text/plain": [
       "toss_decision\n",
       "bat      292\n",
       "field    460\n",
       "Name: winner, dtype: int64"
      ]
     },
     "execution_count": 115,
     "metadata": {},
     "output_type": "execute_result"
    }
   ],
   "source": [
    "df2.groupby(by=[\"toss_decision\"])[\"winner\"].count()"
   ]
  },
  {
   "cell_type": "code",
   "execution_count": 114,
   "id": "e4f872f0",
   "metadata": {},
   "outputs": [],
   "source": [
    "field = (len(df2[df2['toss_decision'] == 'field'])/len(df2))*100\n",
    "bat = (len(df2[df2['toss_decision'] == 'bat'])/len(df2))*100"
   ]
  },
  {
   "cell_type": "code",
   "execution_count": 116,
   "id": "b4f887f5",
   "metadata": {},
   "outputs": [
    {
     "name": "stdout",
     "output_type": "stream",
     "text": [
      "38.75661375661375 61.24338624338625\n"
     ]
    }
   ],
   "source": [
    "print(bat,field)"
   ]
  },
  {
   "cell_type": "markdown",
   "id": "b9b17a48",
   "metadata": {},
   "source": [
    "### 9.In which years where taking batting second have won more number of matches?\n"
   ]
  },
  {
   "cell_type": "code",
   "execution_count": 120,
   "id": "cf9ba420",
   "metadata": {},
   "outputs": [],
   "source": [
    "a = pd.crosstab(columns = df2['toss_decision'],index = df2['season'])"
   ]
  },
  {
   "cell_type": "code",
   "execution_count": 124,
   "id": "0fdd7e58",
   "metadata": {},
   "outputs": [
    {
     "data": {
      "text/html": [
       "<div>\n",
       "<style scoped>\n",
       "    .dataframe tbody tr th:only-of-type {\n",
       "        vertical-align: middle;\n",
       "    }\n",
       "\n",
       "    .dataframe tbody tr th {\n",
       "        vertical-align: top;\n",
       "    }\n",
       "\n",
       "    .dataframe thead th {\n",
       "        text-align: right;\n",
       "    }\n",
       "</style>\n",
       "<table border=\"1\" class=\"dataframe\">\n",
       "  <thead>\n",
       "    <tr style=\"text-align: right;\">\n",
       "      <th>toss_decision</th>\n",
       "      <th>bat</th>\n",
       "      <th>field</th>\n",
       "    </tr>\n",
       "    <tr>\n",
       "      <th>season</th>\n",
       "      <th></th>\n",
       "      <th></th>\n",
       "    </tr>\n",
       "  </thead>\n",
       "  <tbody>\n",
       "    <tr>\n",
       "      <th>2008</th>\n",
       "      <td>26</td>\n",
       "      <td>32</td>\n",
       "    </tr>\n",
       "    <tr>\n",
       "      <th>2009</th>\n",
       "      <td>35</td>\n",
       "      <td>22</td>\n",
       "    </tr>\n",
       "    <tr>\n",
       "      <th>2010</th>\n",
       "      <td>39</td>\n",
       "      <td>21</td>\n",
       "    </tr>\n",
       "    <tr>\n",
       "      <th>2011</th>\n",
       "      <td>25</td>\n",
       "      <td>48</td>\n",
       "    </tr>\n",
       "    <tr>\n",
       "      <th>2012</th>\n",
       "      <td>37</td>\n",
       "      <td>37</td>\n",
       "    </tr>\n",
       "    <tr>\n",
       "      <th>2013</th>\n",
       "      <td>45</td>\n",
       "      <td>31</td>\n",
       "    </tr>\n",
       "    <tr>\n",
       "      <th>2014</th>\n",
       "      <td>19</td>\n",
       "      <td>41</td>\n",
       "    </tr>\n",
       "    <tr>\n",
       "      <th>2015</th>\n",
       "      <td>25</td>\n",
       "      <td>34</td>\n",
       "    </tr>\n",
       "    <tr>\n",
       "      <th>2016</th>\n",
       "      <td>11</td>\n",
       "      <td>49</td>\n",
       "    </tr>\n",
       "    <tr>\n",
       "      <th>2017</th>\n",
       "      <td>11</td>\n",
       "      <td>48</td>\n",
       "    </tr>\n",
       "    <tr>\n",
       "      <th>2018</th>\n",
       "      <td>10</td>\n",
       "      <td>50</td>\n",
       "    </tr>\n",
       "    <tr>\n",
       "      <th>2019</th>\n",
       "      <td>10</td>\n",
       "      <td>50</td>\n",
       "    </tr>\n",
       "  </tbody>\n",
       "</table>\n",
       "</div>"
      ],
      "text/plain": [
       "toss_decision  bat  field\n",
       "season                   \n",
       "2008            26     32\n",
       "2009            35     22\n",
       "2010            39     21\n",
       "2011            25     48\n",
       "2012            37     37\n",
       "2013            45     31\n",
       "2014            19     41\n",
       "2015            25     34\n",
       "2016            11     49\n",
       "2017            11     48\n",
       "2018            10     50\n",
       "2019            10     50"
      ]
     },
     "execution_count": 124,
     "metadata": {},
     "output_type": "execute_result"
    }
   ],
   "source": [
    "a"
   ]
  },
  {
   "cell_type": "markdown",
   "id": "2bfaeaf1",
   "metadata": {},
   "source": [
    "### 11. In 2019 which batsman scored highest number of runs by hitting 6's and 4's?\n",
    "\n"
   ]
  },
  {
   "cell_type": "code",
   "execution_count": 126,
   "id": "9b75353d",
   "metadata": {},
   "outputs": [
    {
     "name": "stdout",
     "output_type": "stream",
     "text": [
      "442\n"
     ]
    },
    {
     "data": {
      "text/plain": [
       "batsman\n",
       "AD Russell    442\n",
       "Name: total_runs, dtype: int64"
      ]
     },
     "execution_count": 126,
     "metadata": {},
     "output_type": "execute_result"
    }
   ],
   "source": [
    "season_2019 = df[df['season']==2019]\n",
    "\n",
    "a =season_2019[(season_2019['batsman_runs'] == 6 ) | (season_2019['batsman_runs'] == 4 )]\n",
    "\n",
    "b = a.groupby(by=\"batsman\")['total_runs'].sum()\n",
    "print(b.max())\n",
    "b[b == 442]"
   ]
  },
  {
   "cell_type": "markdown",
   "id": "06eafed1",
   "metadata": {},
   "source": [
    "### 12. Most number of wickets taken by a bowler is\n"
   ]
  },
  {
   "cell_type": "code",
   "execution_count": 131,
   "id": "92785e7a",
   "metadata": {},
   "outputs": [
    {
     "data": {
      "text/plain": [
       "bowler\n",
       "SL Malinga    170\n",
       "Name: count, dtype: int64"
      ]
     },
     "execution_count": 131,
     "metadata": {},
     "output_type": "execute_result"
    }
   ],
   "source": [
    "a = df1[(df1['dismissal_kind'] == 'bowled') | (df1['dismissal_kind'] == 'caught')|(df1['dismissal_kind'] == 'lbw')|(df1['dismissal_kind'] == 'caught and bowled')|(df1['dismissal_kind'] == 'stumped')|(df1['dismissal_kind'] == 'hit wicket')]\n",
    "\n",
    "a['bowler'].value_counts().nlargest(1)"
   ]
  },
  {
   "cell_type": "markdown",
   "id": "685534b0",
   "metadata": {},
   "source": [
    "### 13.What is the strike rate of Kohli in 2016\n",
    "HINT: strike rate = (Total Runs / Total Balls Faced) * 100\n",
    "\n"
   ]
  },
  {
   "cell_type": "code",
   "execution_count": 132,
   "id": "cae77b68",
   "metadata": {},
   "outputs": [
    {
     "name": "stdout",
     "output_type": "stream",
     "text": [
      "Total runs :  973\n"
     ]
    },
    {
     "data": {
      "text/plain": [
       "148.54961832061068"
      ]
     },
     "execution_count": 132,
     "metadata": {},
     "output_type": "execute_result"
    }
   ],
   "source": [
    "\n",
    "season_2016 = df[df['season']==2016]\n",
    "\n",
    "virat = season_2016[season_2016['batsman']=='V Kohli']\n",
    "\n",
    "runs = virat.iloc[:,31].sum()\n",
    "\n",
    "print(\"Total runs : \",runs)\n",
    "\n",
    "strike_rate = runs/len(virat)*100\n",
    "\n",
    "strike_rate"
   ]
  },
  {
   "cell_type": "markdown",
   "id": "ada1661c",
   "metadata": {},
   "source": [
    "### 14. Bowlers with maximum number of extras:\n"
   ]
  },
  {
   "cell_type": "code",
   "execution_count": 134,
   "id": "6ef65207",
   "metadata": {},
   "outputs": [
    {
     "data": {
      "text/plain": [
       "bowler\n",
       "SL Malinga    293\n",
       "P Kumar       236\n",
       "UT Yadav      219\n",
       "DJ Bravo      201\n",
       "B Kumar       197\n",
       "Name: extra_runs, dtype: int64"
      ]
     },
     "execution_count": 134,
     "metadata": {},
     "output_type": "execute_result"
    }
   ],
   "source": [
    "bowlers = df.groupby(by=\"bowler\")['extra_runs'].sum()\n",
    "\n",
    "bowlers.nlargest()"
   ]
  },
  {
   "cell_type": "markdown",
   "id": "1a464ced",
   "metadata": {},
   "source": [
    "### 15. Which venue has hosted most number of IPL matches?\n"
   ]
  },
  {
   "cell_type": "code",
   "execution_count": 135,
   "id": "ec22e57e",
   "metadata": {},
   "outputs": [
    {
     "data": {
      "text/plain": [
       "venue\n",
       "Eden Gardens                                            17991\n",
       "Wankhede Stadium                                        17590\n",
       "M Chinnaswamy Stadium                                   16872\n",
       "Feroz Shah Kotla                                        15604\n",
       "Rajiv Gandhi International Stadium, Uppal               13303\n",
       "MA Chidambaram Stadium, Chepauk                         12006\n",
       "Sawai Mansingh Stadium                                  11158\n",
       "Punjab Cricket Association Stadium, Mohali               8266\n",
       "Maharashtra Cricket Association Stadium                  5055\n",
       "Subrata Roy Sahara Stadium                               4064\n",
       "Dr DY Patil Sports Academy                               3993\n",
       "Kingsmead                                                3643\n",
       "Punjab Cricket Association IS Bindra Stadium, Mohali     3315\n",
       "Sardar Patel Stadium, Motera                             2893\n",
       "SuperSport Park                                          2866\n",
       "Brabourne Stadium                                        2719\n",
       "Dr. Y.S. Rajasekhara Reddy ACA-VDCA Cricket Stadium      2546\n",
       "Saurashtra Cricket Association Stadium                   2381\n",
       "Himachal Pradesh Cricket Association Stadium             2159\n",
       "Holkar Cricket Stadium                                   1965\n",
       "New Wanderers Stadium                                    1940\n",
       "Rajiv Gandhi Intl. Cricket Stadium                       1912\n",
       "M. A. Chidambaram Stadium                                1889\n",
       "Feroz Shah Kotla Ground                                  1701\n",
       "Dubai International Cricket Stadium                      1700\n",
       "Barabati Stadium                                         1695\n",
       "IS Bindra Stadium                                        1690\n",
       "St George's Park                                         1677\n",
       "JSCA International Stadium Complex                       1671\n",
       "Sheikh Zayed Stadium                                     1624\n",
       "Newlands                                                 1539\n",
       "M. Chinnaswamy Stadium                                   1531\n",
       "Sharjah Cricket Stadium                                  1439\n",
       "Shaheed Veer Narayan Singh International Stadium         1431\n",
       "Nehru Stadium                                            1155\n",
       "Green Park                                                921\n",
       "Vidarbha Cricket Association Stadium, Jamtha              742\n",
       "De Beers Diamond Oval                                     726\n",
       "Buffalo Park                                              715\n",
       "OUTsurance Oval                                           500\n",
       "ACA-VDCA Stadium                                          491\n",
       "Name: count, dtype: int64"
      ]
     },
     "execution_count": 135,
     "metadata": {},
     "output_type": "execute_result"
    }
   ],
   "source": [
    "df.venue.value_counts()"
   ]
  },
  {
   "cell_type": "markdown",
   "id": "6425c11a",
   "metadata": {},
   "source": [
    "### 16. In 2017 when sunrisers hyderabad clashed against Royal Challengers Bangalore which team player won player of the match?\n",
    "\n"
   ]
  },
  {
   "cell_type": "code",
   "execution_count": 142,
   "id": "42ae3d5a",
   "metadata": {},
   "outputs": [],
   "source": [
    "player = df[(df['season'] == 2017) &\n",
    "  (df['batting_team'] == 'Sunrisers Hyderabad') &\n",
    "  (df['bowling_team'] == 'Royal Challengers Bangalore')]"
   ]
  },
  {
   "cell_type": "code",
   "execution_count": 143,
   "id": "ce7d5989",
   "metadata": {},
   "outputs": [
    {
     "data": {
      "text/plain": [
       "array(['Yuvraj Singh'], dtype=object)"
      ]
     },
     "execution_count": 143,
     "metadata": {},
     "output_type": "execute_result"
    }
   ],
   "source": [
    "player['player_of_match'].unique()"
   ]
  },
  {
   "cell_type": "markdown",
   "id": "25a0906e",
   "metadata": {},
   "source": [
    "### 17. Across seasons who are the top three batsman's with most number of run out?\n",
    "\n"
   ]
  },
  {
   "cell_type": "code",
   "execution_count": 137,
   "id": "4aa489ba",
   "metadata": {},
   "outputs": [
    {
     "data": {
      "text/plain": [
       "batsman\n",
       "MS Dhoni      21\n",
       "RG Sharma     17\n",
       "KD Karthik    16\n",
       "Name: count, dtype: int64"
      ]
     },
     "execution_count": 137,
     "metadata": {},
     "output_type": "execute_result"
    }
   ],
   "source": [
    "out = df1[df1['dismissal_kind'] == 'run out']\n",
    "\n",
    "out['batsman'].value_counts().nlargest(3)"
   ]
  },
  {
   "cell_type": "markdown",
   "id": "6bebe2a5",
   "metadata": {},
   "source": [
    "### 18. What are the total runs scored by V Kohli when the bowler was JJ Burmah?\n",
    "rmah\n"
   ]
  },
  {
   "cell_type": "code",
   "execution_count": 145,
   "id": "0b71982c",
   "metadata": {},
   "outputs": [
    {
     "data": {
      "text/plain": [
       "112"
      ]
     },
     "execution_count": 145,
     "metadata": {},
     "output_type": "execute_result"
    }
   ],
   "source": [
    "virat_burmah = df[(df['batsman'] == 'V Kohli') & (df['bowler']=='JJ Bumrah')]\n",
    "virat_burmah['batsman_runs'].sum()\n"
   ]
  },
  {
   "cell_type": "markdown",
   "id": "74ae790c",
   "metadata": {},
   "source": [
    "### 19. Across all seasons which player was dismissed the maximum number of times via caught and bowled\n"
   ]
  },
  {
   "cell_type": "code",
   "execution_count": 147,
   "id": "9fbb5905",
   "metadata": {},
   "outputs": [
    {
     "data": {
      "text/plain": [
       "player_dismissed\n",
       "SK Raina     7\n",
       "RG Sharma    6\n",
       "AT Rayudu    5\n",
       "Name: count, dtype: int64"
      ]
     },
     "execution_count": 147,
     "metadata": {},
     "output_type": "execute_result"
    }
   ],
   "source": [
    "df1[df1['dismissal_kind'] == 'caught and bowled']['player_dismissed'].value_counts().nlargest(3)"
   ]
  },
  {
   "cell_type": "markdown",
   "id": "cd694c53",
   "metadata": {},
   "source": [
    "### 20. which player has the highest hard-hitting ability?\n",
    "\n"
   ]
  },
  {
   "cell_type": "code",
   "execution_count": 149,
   "id": "1d5af05a",
   "metadata": {},
   "outputs": [
    {
     "data": {
      "text/plain": [
       "batsman\n",
       "CH Gayle          327\n",
       "AB de Villiers    214\n",
       "MS Dhoni          207\n",
       "Name: count, dtype: int64"
      ]
     },
     "execution_count": 149,
     "metadata": {},
     "output_type": "execute_result"
    }
   ],
   "source": [
    "\n",
    "df[df['batsman_runs'] == 6]['batsman'].value_counts().nlargest(3)"
   ]
  },
  {
   "cell_type": "code",
   "execution_count": null,
   "id": "cfbeed06",
   "metadata": {},
   "outputs": [],
   "source": []
  }
 ],
 "metadata": {
  "kernelspec": {
   "display_name": "Python 3 (ipykernel)",
   "language": "python",
   "name": "python3"
  },
  "language_info": {
   "codemirror_mode": {
    "name": "ipython",
    "version": 3
   },
   "file_extension": ".py",
   "mimetype": "text/x-python",
   "name": "python",
   "nbconvert_exporter": "python",
   "pygments_lexer": "ipython3",
   "version": "3.11.4"
  }
 },
 "nbformat": 4,
 "nbformat_minor": 5
}
